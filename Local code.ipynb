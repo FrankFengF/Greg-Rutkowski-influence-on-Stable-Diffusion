{
 "cells": [
  {
   "cell_type": "markdown",
   "metadata": {},
   "source": [
    "Import Package"
   ]
  },
  {
   "cell_type": "code",
   "execution_count": 1,
   "metadata": {},
   "outputs": [
    {
     "name": "stderr",
     "output_type": "stream",
     "text": [
      "d:\\Anaconda\\envs\\nightshade\\lib\\site-packages\\tqdm\\auto.py:21: TqdmWarning: IProgress not found. Please update jupyter and ipywidgets. See https://ipywidgets.readthedocs.io/en/stable/user_install.html\n",
      "  from .autonotebook import tqdm as notebook_tqdm\n",
      "d:\\Anaconda\\envs\\nightshade\\lib\\site-packages\\diffusers\\models\\vq_model.py:20: FutureWarning: `VQEncoderOutput` is deprecated and will be removed in version 0.31. Importing `VQEncoderOutput` from `diffusers.models.vq_model` is deprecated and this will be removed in a future version. Please use `from diffusers.models.autoencoders.vq_model import VQEncoderOutput`, instead.\n",
      "  deprecate(\"VQEncoderOutput\", \"0.31\", deprecation_message)\n",
      "d:\\Anaconda\\envs\\nightshade\\lib\\site-packages\\diffusers\\models\\vq_model.py:25: FutureWarning: `VQModel` is deprecated and will be removed in version 0.31. Importing `VQModel` from `diffusers.models.vq_model` is deprecated and this will be removed in a future version. Please use `from diffusers.models.autoencoders.vq_model import VQModel`, instead.\n",
      "  deprecate(\"VQModel\", \"0.31\", deprecation_message)\n"
     ]
    }
   ],
   "source": [
    "from diffusers import AutoPipelineForText2Image\n",
    "import torch\n",
    "import pandas as pd\n",
    "import os"
   ]
  },
  {
   "cell_type": "markdown",
   "metadata": {},
   "source": [
    "XL model import"
   ]
  },
  {
   "cell_type": "code",
   "execution_count": 2,
   "metadata": {},
   "outputs": [
    {
     "name": "stderr",
     "output_type": "stream",
     "text": [
      "Loading pipeline components...: 100%|██████████| 7/7 [00:00<00:00, 11.11it/s]\n"
     ]
    }
   ],
   "source": [
    "#StableDiffusionXL Pipelines Initialize\n",
    "\n",
    "pipeline_text2imageXL = AutoPipelineForText2Image.from_pretrained(\n",
    "    \"stabilityai/stable-diffusion-xl-base-1.0\", torch_dtype=torch.float16, variant=\"fp16\", use_safetensors=True\n",
    ").to(\"cuda\")\n",
    "\n",
    "#Example of image generating  \n",
    "#prompt = \"an indian businessman dj in nightclub, people dancing in background, anatomy, bathed in light, highly detailed, photorealistic, artstation, smooth, sharp focus, illustration, unreal engine 5, 8 k, art by artgerm and greg rutkowski and edgar maxence \"\n",
    "#image = pipeline_text2imageXL(prompt=prompt).images[0]\n",
    "#image"
   ]
  },
  {
   "cell_type": "markdown",
   "metadata": {},
   "source": [
    "1.5 Model import"
   ]
  },
  {
   "cell_type": "code",
   "execution_count": 2,
   "metadata": {},
   "outputs": [
    {
     "name": "stderr",
     "output_type": "stream",
     "text": [
      "Loading pipeline components...: 100%|██████████| 7/7 [00:00<00:00, 15.38it/s]\n"
     ]
    }
   ],
   "source": [
    "#StableDiffusion1.5 Pipelines Initialize\n",
    "pipeline_text2image15 = AutoPipelineForText2Image.from_pretrained(\n",
    "    \"pt-sk/stable-diffusion-1.5\", torch_dtype=torch.float16, variant=\"fp16\", use_safetensors=True\n",
    ").to(\"cuda\")\n",
    "\n",
    "#Example of image generating  \n",
    "#prompt = \"an indian businessman dj in nightclub, people dancing in background, anatomy, bathed in light, highly detailed, photorealistic, artstation, smooth, sharp focus, illustration, unreal engine 5, 8 k, art by artgerm and greg rutkowski and edgar maxence \"\n",
    "#image = pipeline_text2image15(prompt=prompt).images[0]\n",
    "#image"
   ]
  },
  {
   "cell_type": "markdown",
   "metadata": {},
   "source": [
    "# Image generation"
   ]
  },
  {
   "cell_type": "markdown",
   "metadata": {},
   "source": [
    "Variables that need to change: file path, start_num, end_num, prompt, base/positive/negative group choice"
   ]
  },
  {
   "cell_type": "markdown",
   "metadata": {},
   "source": [
    "SDXL Image generation"
   ]
  },
  {
   "cell_type": "code",
   "execution_count": null,
   "metadata": {},
   "outputs": [],
   "source": [
    "# Load the CSV file\n",
    "file_path = 'D:\\\\Frank\\\\Fall work\\\\generated_images\\\\final_cleaned_prompts.csv' # revise the path here for prompt list\n",
    "df = pd.read_csv(file_path)\n",
    "\n",
    "start_num=0\n",
    "end_num=1199  # revise the range of selected prompts\n",
    "\n",
    "\n",
    "# Specify the range of 'number's you want to process\n",
    "# Filter the DataFrame to include only the desired range\n",
    "df_filtered = df[(df['number'] >= start_num) & (df['number'] <= end_num)]\n",
    "\n",
    "# Create a folder to save the images\n",
    "output_folder = 'D:\\\\Frank\\\\Fall work\\\\generated_images\\\\xl\\\\only no greg\\\\positive\\\\5'  # revise the path here for output path\n",
    "os.makedirs(output_folder, exist_ok=True)\n",
    "\n",
    "# Process the selected prompts\n",
    "for i, (index, row) in enumerate(df_filtered.iterrows(), start=1):\n",
    "    prompt = row['cleaned_prompt']               \n",
    "    prompt_2= \"in the style of Greg Rutkowski\"\n",
    "    num = row['number']\n",
    "\n",
    "    # Convert 'num' to integer if it's a float\n",
    "    num = int(num)\n",
    "\n",
    "    # Generate the image\n",
    "    #image = pipeline_text2imageXL(prompt=prompt).images[0]  #base prompt\n",
    "    image = pipeline_text2imageXL(prompt=prompt, prompt_2=prompt_2).images[0]  #positive prompt\n",
    "    #image = pipeline_text2imageXL(prompt=prompt, negative_prompt=prompt_2).images[0]  #negative prompt\n",
    "\n",
    "    # Define the image path\n",
    "    image_path = os.path.join(output_folder, f\"image_{num}.png\")\n",
    "\n",
    "    # Save the image\n",
    "    image.save(image_path)\n",
    "\n",
    "    print(f\"Saved image_{num}.png\")\n",
    "\n",
    "print(f\"Images saved in {output_folder}\")\n",
    "\n"
   ]
  },
  {
   "cell_type": "markdown",
   "metadata": {},
   "source": [
    "SD1.5 Image generation"
   ]
  },
  {
   "cell_type": "code",
   "execution_count": null,
   "metadata": {},
   "outputs": [],
   "source": [
    "# Load the CSV file\n",
    "file_path = 'D:\\\\Frank\\\\Fall work\\\\generated_images\\\\final_cleaned_prompts.csv' # revise the path here for prompt list\n",
    "df = pd.read_csv(file_path)\n",
    "\n",
    "start_num=0\n",
    "end_num=1199  # revise the range of selected prompts\n",
    "\n",
    "\n",
    "# Specify the range of 'number's you want to process\n",
    "# Filter the DataFrame to include only the desired range\n",
    "df_filtered = df[(df['number'] >= start_num) & (df['number'] <= end_num)]\n",
    "\n",
    "# Create a folder to save the images\n",
    "output_folder = 'D:\\\\Frank\\\\Fall work\\\\generated_images\\\\1.5\\\\only no greg\\\\positive\\\\5'  # revise the path here for output path\n",
    "os.makedirs(output_folder, exist_ok=True)\n",
    "\n",
    "# Process the selected prompts\n",
    "for i, (index, row) in enumerate(df_filtered.iterrows(), start=1):\n",
    "    prompt = row['cleaned_prompt']               #cleaned_prompt   cleaned_prompt_no_any_name\n",
    "    prompt_2= \"in the style of Greg Rutkowski\"\n",
    "    num = row['number']\n",
    "\n",
    "    # Convert 'num' to integer if it's a float\n",
    "    num = int(num)\n",
    "\n",
    "    # Generate the image\n",
    "    #image = pipeline_text2image15(prompt=prompt).images[0]\n",
    "    image = pipeline_text2image15(prompt=prompt, prompt_2=prompt_2).images[0]  #positive\n",
    "    #image = pipeline_text2image15(prompt=prompt, negative_prompt=prompt_2).images[0]  #negative\n",
    "\n",
    "    # Define the image path\n",
    "    image_path = os.path.join(output_folder, f\"image_{num}.png\")\n",
    "\n",
    "    # Save the image\n",
    "    image.save(image_path)\n",
    "\n",
    "    print(f\"Saved image_{num}.png\")\n",
    "\n",
    "print(f\"Images saved in {output_folder}\")"
   ]
  }
 ],
 "metadata": {
  "kernelspec": {
   "display_name": "nightshade",
   "language": "python",
   "name": "python3"
  },
  "language_info": {
   "codemirror_mode": {
    "name": "ipython",
    "version": 3
   },
   "file_extension": ".py",
   "mimetype": "text/x-python",
   "name": "python",
   "nbconvert_exporter": "python",
   "pygments_lexer": "ipython3",
   "version": "3.9.19"
  }
 },
 "nbformat": 4,
 "nbformat_minor": 2
}
